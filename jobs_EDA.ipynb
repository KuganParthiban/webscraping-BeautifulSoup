{
 "cells": [
  {
   "cell_type": "code",
   "execution_count": 1,
   "metadata": {},
   "outputs": [],
   "source": [
    "import pandas as pd\n",
    "import numpy as np"
   ]
  },
  {
   "cell_type": "code",
   "execution_count": 2,
   "metadata": {},
   "outputs": [
    {
     "data": {
      "text/html": [
       "<div>\n",
       "<style scoped>\n",
       "    .dataframe tbody tr th:only-of-type {\n",
       "        vertical-align: middle;\n",
       "    }\n",
       "\n",
       "    .dataframe tbody tr th {\n",
       "        vertical-align: top;\n",
       "    }\n",
       "\n",
       "    .dataframe thead th {\n",
       "        text-align: right;\n",
       "    }\n",
       "</style>\n",
       "<table border=\"1\" class=\"dataframe\">\n",
       "  <thead>\n",
       "    <tr style=\"text-align: right;\">\n",
       "      <th></th>\n",
       "      <th>Job Title</th>\n",
       "      <th>Salary</th>\n",
       "      <th>Location</th>\n",
       "    </tr>\n",
       "  </thead>\n",
       "  <tbody>\n",
       "    <tr>\n",
       "      <th>0</th>\n",
       "      <td>Data Scientist</td>\n",
       "      <td>5.5K - 11,000 monthly</td>\n",
       "      <td>Kuala Lumpur</td>\n",
       "    </tr>\n",
       "    <tr>\n",
       "      <th>1</th>\n",
       "      <td>Azure Data Engineer</td>\n",
       "      <td>NaN</td>\n",
       "      <td>Kuala Lumpur</td>\n",
       "    </tr>\n",
       "    <tr>\n",
       "      <th>2</th>\n",
       "      <td>System Support Engineer (Software Developer)</td>\n",
       "      <td>5K - 8,000 monthly</td>\n",
       "      <td>Kuala Lumpur</td>\n",
       "    </tr>\n",
       "    <tr>\n",
       "      <th>3</th>\n",
       "      <td>Software Engineer</td>\n",
       "      <td>NaN</td>\n",
       "      <td>Kuala Lumpur</td>\n",
       "    </tr>\n",
       "    <tr>\n",
       "      <th>4</th>\n",
       "      <td>Web Developer (Python)</td>\n",
       "      <td>6K - 8,000 monthly</td>\n",
       "      <td>Kuala Lumpur</td>\n",
       "    </tr>\n",
       "  </tbody>\n",
       "</table>\n",
       "</div>"
      ],
      "text/plain": [
       "                                      Job Title                 Salary   \n",
       "0                                Data Scientist  5.5K - 11,000 monthly  \\\n",
       "1                           Azure Data Engineer                    NaN   \n",
       "2  System Support Engineer (Software Developer)     5K - 8,000 monthly   \n",
       "3                             Software Engineer                    NaN   \n",
       "4                        Web Developer (Python)     6K - 8,000 monthly   \n",
       "\n",
       "       Location  \n",
       "0  Kuala Lumpur  \n",
       "1  Kuala Lumpur  \n",
       "2  Kuala Lumpur  \n",
       "3  Kuala Lumpur  \n",
       "4  Kuala Lumpur  "
      ]
     },
     "execution_count": 2,
     "metadata": {},
     "output_type": "execute_result"
    }
   ],
   "source": [
    "df = pd.read_csv('jobs_python.csv')\n",
    "df.head()"
   ]
  },
  {
   "cell_type": "code",
   "execution_count": 3,
   "metadata": {},
   "outputs": [
    {
     "data": {
      "text/plain": [
       "Job Title       0\n",
       "Salary       8417\n",
       "Location        0\n",
       "dtype: int64"
      ]
     },
     "execution_count": 3,
     "metadata": {},
     "output_type": "execute_result"
    }
   ],
   "source": [
    "df.isnull().sum()"
   ]
  },
  {
   "cell_type": "code",
   "execution_count": 4,
   "metadata": {},
   "outputs": [],
   "source": [
    "df.dropna(inplace=True)"
   ]
  },
  {
   "cell_type": "code",
   "execution_count": 5,
   "metadata": {},
   "outputs": [
    {
     "data": {
      "text/html": [
       "<div>\n",
       "<style scoped>\n",
       "    .dataframe tbody tr th:only-of-type {\n",
       "        vertical-align: middle;\n",
       "    }\n",
       "\n",
       "    .dataframe tbody tr th {\n",
       "        vertical-align: top;\n",
       "    }\n",
       "\n",
       "    .dataframe thead th {\n",
       "        text-align: right;\n",
       "    }\n",
       "</style>\n",
       "<table border=\"1\" class=\"dataframe\">\n",
       "  <thead>\n",
       "    <tr style=\"text-align: right;\">\n",
       "      <th></th>\n",
       "      <th>Job Title</th>\n",
       "      <th>Salary</th>\n",
       "      <th>Location</th>\n",
       "    </tr>\n",
       "  </thead>\n",
       "  <tbody>\n",
       "    <tr>\n",
       "      <th>0</th>\n",
       "      <td>Data Scientist</td>\n",
       "      <td>5.5K - 11,000 monthly</td>\n",
       "      <td>Kuala Lumpur</td>\n",
       "    </tr>\n",
       "    <tr>\n",
       "      <th>2</th>\n",
       "      <td>System Support Engineer (Software Developer)</td>\n",
       "      <td>5K - 8,000 monthly</td>\n",
       "      <td>Kuala Lumpur</td>\n",
       "    </tr>\n",
       "    <tr>\n",
       "      <th>4</th>\n",
       "      <td>Web Developer (Python)</td>\n",
       "      <td>6K - 8,000 monthly</td>\n",
       "      <td>Kuala Lumpur</td>\n",
       "    </tr>\n",
       "    <tr>\n",
       "      <th>5</th>\n",
       "      <td>AI Scientist</td>\n",
       "      <td>4.4K - 8,000 monthly</td>\n",
       "      <td>Kuala Lumpur</td>\n",
       "    </tr>\n",
       "    <tr>\n",
       "      <th>6</th>\n",
       "      <td>Senior Software Developer</td>\n",
       "      <td>6K - 10,000 monthly</td>\n",
       "      <td>Kuala Lumpur</td>\n",
       "    </tr>\n",
       "  </tbody>\n",
       "</table>\n",
       "</div>"
      ],
      "text/plain": [
       "                                      Job Title                 Salary   \n",
       "0                                Data Scientist  5.5K - 11,000 monthly  \\\n",
       "2  System Support Engineer (Software Developer)     5K - 8,000 monthly   \n",
       "4                        Web Developer (Python)     6K - 8,000 monthly   \n",
       "5                                  AI Scientist   4.4K - 8,000 monthly   \n",
       "6                     Senior Software Developer    6K - 10,000 monthly   \n",
       "\n",
       "       Location  \n",
       "0  Kuala Lumpur  \n",
       "2  Kuala Lumpur  \n",
       "4  Kuala Lumpur  \n",
       "5  Kuala Lumpur  \n",
       "6  Kuala Lumpur  "
      ]
     },
     "execution_count": 5,
     "metadata": {},
     "output_type": "execute_result"
    }
   ],
   "source": [
    "df.head()"
   ]
  },
  {
   "cell_type": "code",
   "execution_count": 6,
   "metadata": {},
   "outputs": [
    {
     "data": {
      "text/plain": [
       "(9262, 3)"
      ]
     },
     "execution_count": 6,
     "metadata": {},
     "output_type": "execute_result"
    }
   ],
   "source": [
    "df.shape"
   ]
  },
  {
   "cell_type": "code",
   "execution_count": 7,
   "metadata": {},
   "outputs": [
    {
     "data": {
      "text/plain": [
       "['Data Scientist',\n",
       " 'System Support Engineer (Software Developer)',\n",
       " 'Web Developer (Python)',\n",
       " 'AI Scientist',\n",
       " 'Senior Software Developer',\n",
       " 'System Programmer',\n",
       " 'AIOps Engineer',\n",
       " 'Software Engineer',\n",
       " 'Senior Software Engineer, CCS5 (COBOL)',\n",
       " 'Back-end Developer (Artificial Intelligence Project)',\n",
       " 'SQL Programmer',\n",
       " 'Software Engineer (Development)',\n",
       " 'Python Developer',\n",
       " 'Embedded Linux Software Engineer',\n",
       " 'Backend Developer',\n",
       " 'Data Scientist (Fintech)',\n",
       " 'Analyst Programmer',\n",
       " 'SOFTWARE ENGINEERS',\n",
       " 'Software Engineer (CRM/ Trading Platform)']"
      ]
     },
     "execution_count": 7,
     "metadata": {},
     "output_type": "execute_result"
    }
   ],
   "source": [
    "list(df['Job Title'].unique())"
   ]
  },
  {
   "cell_type": "code",
   "execution_count": 8,
   "metadata": {},
   "outputs": [
    {
     "data": {
      "text/plain": [
       "array(['Kuala Lumpur', 'Petaling Jaya', 'Shah Alam/Subang', 'Selangor',\n",
       "       'Melaka', 'Penang'], dtype=object)"
      ]
     },
     "execution_count": 8,
     "metadata": {},
     "output_type": "execute_result"
    }
   ],
   "source": [
    "df['Location'].unique()"
   ]
  },
  {
   "cell_type": "code",
   "execution_count": 9,
   "metadata": {},
   "outputs": [
    {
     "data": {
      "text/html": [
       "<div>\n",
       "<style scoped>\n",
       "    .dataframe tbody tr th:only-of-type {\n",
       "        vertical-align: middle;\n",
       "    }\n",
       "\n",
       "    .dataframe tbody tr th {\n",
       "        vertical-align: top;\n",
       "    }\n",
       "\n",
       "    .dataframe thead th {\n",
       "        text-align: right;\n",
       "    }\n",
       "</style>\n",
       "<table border=\"1\" class=\"dataframe\">\n",
       "  <thead>\n",
       "    <tr style=\"text-align: right;\">\n",
       "      <th></th>\n",
       "      <th>Job Title</th>\n",
       "      <th>Salary</th>\n",
       "      <th>Location</th>\n",
       "    </tr>\n",
       "  </thead>\n",
       "  <tbody>\n",
       "    <tr>\n",
       "      <th>0</th>\n",
       "      <td>Azure Data Engineer</td>\n",
       "      <td>NaN</td>\n",
       "      <td>Kuala Lumpur</td>\n",
       "    </tr>\n",
       "    <tr>\n",
       "      <th>1</th>\n",
       "      <td>Data Scientist</td>\n",
       "      <td>5.5K - 11,000 monthly</td>\n",
       "      <td>Kuala Lumpur</td>\n",
       "    </tr>\n",
       "    <tr>\n",
       "      <th>2</th>\n",
       "      <td>Data Visualization Engineer / Developer</td>\n",
       "      <td>NaN</td>\n",
       "      <td>Selangor</td>\n",
       "    </tr>\n",
       "    <tr>\n",
       "      <th>3</th>\n",
       "      <td>Data Center Engineer</td>\n",
       "      <td>3.5K - 5,500 monthly</td>\n",
       "      <td>Kuala Lumpur</td>\n",
       "    </tr>\n",
       "    <tr>\n",
       "      <th>4</th>\n",
       "      <td>Data Engineer</td>\n",
       "      <td>NaN</td>\n",
       "      <td>Klang/Port Klang</td>\n",
       "    </tr>\n",
       "  </tbody>\n",
       "</table>\n",
       "</div>"
      ],
      "text/plain": [
       "                                 Job Title                 Salary   \n",
       "0                      Azure Data Engineer                    NaN  \\\n",
       "1                           Data Scientist  5.5K - 11,000 monthly   \n",
       "2  Data Visualization Engineer / Developer                    NaN   \n",
       "3                     Data Center Engineer   3.5K - 5,500 monthly   \n",
       "4                            Data Engineer                    NaN   \n",
       "\n",
       "           Location  \n",
       "0      Kuala Lumpur  \n",
       "1      Kuala Lumpur  \n",
       "2          Selangor  \n",
       "3      Kuala Lumpur  \n",
       "4  Klang/Port Klang  "
      ]
     },
     "execution_count": 9,
     "metadata": {},
     "output_type": "execute_result"
    }
   ],
   "source": [
    "df_eng = pd.read_csv('jobs_DE.csv')\n",
    "\n",
    "df_eng.head()\n"
   ]
  },
  {
   "cell_type": "code",
   "execution_count": 10,
   "metadata": {},
   "outputs": [
    {
     "data": {
      "text/plain": [
       "Job Title        0\n",
       "Salary       16055\n",
       "Location         0\n",
       "dtype: int64"
      ]
     },
     "execution_count": 10,
     "metadata": {},
     "output_type": "execute_result"
    }
   ],
   "source": [
    "df_eng.isnull().sum()"
   ]
  },
  {
   "cell_type": "code",
   "execution_count": 11,
   "metadata": {},
   "outputs": [
    {
     "data": {
      "text/plain": [
       "(22037, 3)"
      ]
     },
     "execution_count": 11,
     "metadata": {},
     "output_type": "execute_result"
    }
   ],
   "source": [
    "df_eng.shape"
   ]
  },
  {
   "cell_type": "code",
   "execution_count": 12,
   "metadata": {},
   "outputs": [],
   "source": [
    "df_eng.dropna(inplace=True)"
   ]
  },
  {
   "cell_type": "code",
   "execution_count": 13,
   "metadata": {},
   "outputs": [
    {
     "data": {
      "text/plain": [
       "(5982, 3)"
      ]
     },
     "execution_count": 13,
     "metadata": {},
     "output_type": "execute_result"
    }
   ],
   "source": [
    "df_eng.shape"
   ]
  },
  {
   "cell_type": "code",
   "execution_count": 14,
   "metadata": {},
   "outputs": [
    {
     "data": {
      "text/plain": [
       "(9262, 3)"
      ]
     },
     "execution_count": 14,
     "metadata": {},
     "output_type": "execute_result"
    }
   ],
   "source": [
    "df.shape"
   ]
  },
  {
   "cell_type": "code",
   "execution_count": 15,
   "metadata": {},
   "outputs": [
    {
     "data": {
      "text/html": [
       "<div>\n",
       "<style scoped>\n",
       "    .dataframe tbody tr th:only-of-type {\n",
       "        vertical-align: middle;\n",
       "    }\n",
       "\n",
       "    .dataframe tbody tr th {\n",
       "        vertical-align: top;\n",
       "    }\n",
       "\n",
       "    .dataframe thead th {\n",
       "        text-align: right;\n",
       "    }\n",
       "</style>\n",
       "<table border=\"1\" class=\"dataframe\">\n",
       "  <thead>\n",
       "    <tr style=\"text-align: right;\">\n",
       "      <th></th>\n",
       "      <th>Job Title</th>\n",
       "      <th>Salary</th>\n",
       "      <th>Location</th>\n",
       "    </tr>\n",
       "  </thead>\n",
       "  <tbody>\n",
       "    <tr>\n",
       "      <th>0</th>\n",
       "      <td>Data Scientist</td>\n",
       "      <td>5.5K - 11,000 monthly</td>\n",
       "      <td>Kuala Lumpur</td>\n",
       "    </tr>\n",
       "    <tr>\n",
       "      <th>2</th>\n",
       "      <td>System Support Engineer (Software Developer)</td>\n",
       "      <td>5K - 8,000 monthly</td>\n",
       "      <td>Kuala Lumpur</td>\n",
       "    </tr>\n",
       "    <tr>\n",
       "      <th>4</th>\n",
       "      <td>Web Developer (Python)</td>\n",
       "      <td>6K - 8,000 monthly</td>\n",
       "      <td>Kuala Lumpur</td>\n",
       "    </tr>\n",
       "    <tr>\n",
       "      <th>5</th>\n",
       "      <td>AI Scientist</td>\n",
       "      <td>4.4K - 8,000 monthly</td>\n",
       "      <td>Kuala Lumpur</td>\n",
       "    </tr>\n",
       "    <tr>\n",
       "      <th>6</th>\n",
       "      <td>Senior Software Developer</td>\n",
       "      <td>6K - 10,000 monthly</td>\n",
       "      <td>Kuala Lumpur</td>\n",
       "    </tr>\n",
       "  </tbody>\n",
       "</table>\n",
       "</div>"
      ],
      "text/plain": [
       "                                      Job Title                 Salary   \n",
       "0                                Data Scientist  5.5K - 11,000 monthly  \\\n",
       "2  System Support Engineer (Software Developer)     5K - 8,000 monthly   \n",
       "4                        Web Developer (Python)     6K - 8,000 monthly   \n",
       "5                                  AI Scientist   4.4K - 8,000 monthly   \n",
       "6                     Senior Software Developer    6K - 10,000 monthly   \n",
       "\n",
       "       Location  \n",
       "0  Kuala Lumpur  \n",
       "2  Kuala Lumpur  \n",
       "4  Kuala Lumpur  \n",
       "5  Kuala Lumpur  \n",
       "6  Kuala Lumpur  "
      ]
     },
     "execution_count": 15,
     "metadata": {},
     "output_type": "execute_result"
    }
   ],
   "source": [
    "df_concat = pd.concat([df,df_eng], join='inner')\n",
    "df_concat.head()"
   ]
  },
  {
   "cell_type": "code",
   "execution_count": 16,
   "metadata": {},
   "outputs": [
    {
     "data": {
      "text/plain": [
       "(15244, 3)"
      ]
     },
     "execution_count": 16,
     "metadata": {},
     "output_type": "execute_result"
    }
   ],
   "source": [
    "df_concat.shape"
   ]
  },
  {
   "cell_type": "code",
   "execution_count": 17,
   "metadata": {},
   "outputs": [
    {
     "data": {
      "text/plain": [
       "Job Title    0\n",
       "Salary       0\n",
       "Location     0\n",
       "dtype: int64"
      ]
     },
     "execution_count": 17,
     "metadata": {},
     "output_type": "execute_result"
    }
   ],
   "source": [
    "df_concat.isnull().sum(\n",
    ")"
   ]
  },
  {
   "cell_type": "code",
   "execution_count": 18,
   "metadata": {},
   "outputs": [
    {
     "data": {
      "text/plain": [
       "['5.5K - 11,000 monthly',\n",
       " '5K - 8,000 monthly',\n",
       " '6K - 8,000 monthly',\n",
       " '4.4K - 8,000 monthly',\n",
       " '6K - 10,000 monthly',\n",
       " '5K - 7,000 monthly',\n",
       " '4K - 5,600 monthly',\n",
       " '3K - 4,500 monthly',\n",
       " '7K - 10,000 monthly',\n",
       " '6.5K - 10,000 monthly',\n",
       " '3.8K - 6,500 monthly',\n",
       " '3.5K - 7,000 monthly',\n",
       " '6.5K - 9,100 monthly',\n",
       " '7K - 14,000 monthly',\n",
       " '4K - 6,000 monthly',\n",
       " '10K - 12,000 monthly',\n",
       " '3.5K - 6,500 monthly',\n",
       " '3.5K - 5,500 monthly',\n",
       " '5K - 10,000 monthly',\n",
       " '10K - 14,000 monthly',\n",
       " '8K - 10,900 monthly']"
      ]
     },
     "execution_count": 18,
     "metadata": {},
     "output_type": "execute_result"
    }
   ],
   "source": [
    "list(df_concat['Salary'].unique())"
   ]
  },
  {
   "cell_type": "code",
   "execution_count": 19,
   "metadata": {},
   "outputs": [
    {
     "data": {
      "text/html": [
       "<div>\n",
       "<style scoped>\n",
       "    .dataframe tbody tr th:only-of-type {\n",
       "        vertical-align: middle;\n",
       "    }\n",
       "\n",
       "    .dataframe tbody tr th {\n",
       "        vertical-align: top;\n",
       "    }\n",
       "\n",
       "    .dataframe thead th {\n",
       "        text-align: right;\n",
       "    }\n",
       "</style>\n",
       "<table border=\"1\" class=\"dataframe\">\n",
       "  <thead>\n",
       "    <tr style=\"text-align: right;\">\n",
       "      <th></th>\n",
       "      <th>Job Title</th>\n",
       "      <th>Salary</th>\n",
       "      <th>Location</th>\n",
       "      <th>Number</th>\n",
       "      <th>After_K</th>\n",
       "    </tr>\n",
       "  </thead>\n",
       "  <tbody>\n",
       "    <tr>\n",
       "      <th>0</th>\n",
       "      <td>Data Scientist</td>\n",
       "      <td>5.5K - 11,000 monthly</td>\n",
       "      <td>Kuala Lumpur</td>\n",
       "      <td>5.5</td>\n",
       "      <td>- 11,000 monthly</td>\n",
       "    </tr>\n",
       "    <tr>\n",
       "      <th>2</th>\n",
       "      <td>System Support Engineer (Software Developer)</td>\n",
       "      <td>5K - 8,000 monthly</td>\n",
       "      <td>Kuala Lumpur</td>\n",
       "      <td>5</td>\n",
       "      <td>- 8,000 monthly</td>\n",
       "    </tr>\n",
       "    <tr>\n",
       "      <th>4</th>\n",
       "      <td>Web Developer (Python)</td>\n",
       "      <td>6K - 8,000 monthly</td>\n",
       "      <td>Kuala Lumpur</td>\n",
       "      <td>6</td>\n",
       "      <td>- 8,000 monthly</td>\n",
       "    </tr>\n",
       "    <tr>\n",
       "      <th>5</th>\n",
       "      <td>AI Scientist</td>\n",
       "      <td>4.4K - 8,000 monthly</td>\n",
       "      <td>Kuala Lumpur</td>\n",
       "      <td>4.4</td>\n",
       "      <td>- 8,000 monthly</td>\n",
       "    </tr>\n",
       "    <tr>\n",
       "      <th>6</th>\n",
       "      <td>Senior Software Developer</td>\n",
       "      <td>6K - 10,000 monthly</td>\n",
       "      <td>Kuala Lumpur</td>\n",
       "      <td>6</td>\n",
       "      <td>- 10,000 monthly</td>\n",
       "    </tr>\n",
       "  </tbody>\n",
       "</table>\n",
       "</div>"
      ],
      "text/plain": [
       "                                      Job Title                 Salary   \n",
       "0                                Data Scientist  5.5K - 11,000 monthly  \\\n",
       "2  System Support Engineer (Software Developer)     5K - 8,000 monthly   \n",
       "4                        Web Developer (Python)     6K - 8,000 monthly   \n",
       "5                                  AI Scientist   4.4K - 8,000 monthly   \n",
       "6                     Senior Software Developer    6K - 10,000 monthly   \n",
       "\n",
       "       Location Number            After_K  \n",
       "0  Kuala Lumpur    5.5   - 11,000 monthly  \n",
       "2  Kuala Lumpur      5    - 8,000 monthly  \n",
       "4  Kuala Lumpur      6    - 8,000 monthly  \n",
       "5  Kuala Lumpur    4.4    - 8,000 monthly  \n",
       "6  Kuala Lumpur      6   - 10,000 monthly  "
      ]
     },
     "execution_count": 19,
     "metadata": {},
     "output_type": "execute_result"
    }
   ],
   "source": [
    "# Split the 'Values' column and create a new column with the separated values\n",
    "df_concat[['Number', 'After_K']] = df_concat['Salary'].str.split('K', expand=True)\n",
    "df_concat.head()"
   ]
  },
  {
   "cell_type": "code",
   "execution_count": 20,
   "metadata": {},
   "outputs": [
    {
     "data": {
      "text/plain": [
       "(15244, 5)"
      ]
     },
     "execution_count": 20,
     "metadata": {},
     "output_type": "execute_result"
    }
   ],
   "source": [
    "df_concat.shape"
   ]
  },
  {
   "cell_type": "code",
   "execution_count": 24,
   "metadata": {},
   "outputs": [
    {
     "data": {
      "text/plain": [
       "Job Title    object\n",
       "Salary       object\n",
       "Location     object\n",
       "Number       object\n",
       "After_K      object\n",
       "dtype: object"
      ]
     },
     "execution_count": 24,
     "metadata": {},
     "output_type": "execute_result"
    }
   ],
   "source": [
    "df_concat.dtypes\n"
   ]
  },
  {
   "cell_type": "code",
   "execution_count": 28,
   "metadata": {},
   "outputs": [],
   "source": [
    "df_concat['Number'] = df_concat['Number'].astype(float)"
   ]
  },
  {
   "cell_type": "code",
   "execution_count": 29,
   "metadata": {},
   "outputs": [
    {
     "data": {
      "text/plain": [
       "Job Title     object\n",
       "Salary        object\n",
       "Location      object\n",
       "Number       float64\n",
       "After_K       object\n",
       "dtype: object"
      ]
     },
     "execution_count": 29,
     "metadata": {},
     "output_type": "execute_result"
    }
   ],
   "source": [
    "df_concat.dtypes"
   ]
  },
  {
   "cell_type": "code",
   "execution_count": 30,
   "metadata": {},
   "outputs": [],
   "source": [
    "df_concat['Number'] = df_concat['Number']*1000"
   ]
  },
  {
   "cell_type": "code",
   "execution_count": 31,
   "metadata": {},
   "outputs": [
    {
     "data": {
      "text/html": [
       "<div>\n",
       "<style scoped>\n",
       "    .dataframe tbody tr th:only-of-type {\n",
       "        vertical-align: middle;\n",
       "    }\n",
       "\n",
       "    .dataframe tbody tr th {\n",
       "        vertical-align: top;\n",
       "    }\n",
       "\n",
       "    .dataframe thead th {\n",
       "        text-align: right;\n",
       "    }\n",
       "</style>\n",
       "<table border=\"1\" class=\"dataframe\">\n",
       "  <thead>\n",
       "    <tr style=\"text-align: right;\">\n",
       "      <th></th>\n",
       "      <th>Job Title</th>\n",
       "      <th>Salary</th>\n",
       "      <th>Location</th>\n",
       "      <th>Number</th>\n",
       "      <th>After_K</th>\n",
       "    </tr>\n",
       "  </thead>\n",
       "  <tbody>\n",
       "    <tr>\n",
       "      <th>0</th>\n",
       "      <td>Data Scientist</td>\n",
       "      <td>5.5K - 11,000 monthly</td>\n",
       "      <td>Kuala Lumpur</td>\n",
       "      <td>5500.0</td>\n",
       "      <td>- 11,000 monthly</td>\n",
       "    </tr>\n",
       "    <tr>\n",
       "      <th>2</th>\n",
       "      <td>System Support Engineer (Software Developer)</td>\n",
       "      <td>5K - 8,000 monthly</td>\n",
       "      <td>Kuala Lumpur</td>\n",
       "      <td>5000.0</td>\n",
       "      <td>- 8,000 monthly</td>\n",
       "    </tr>\n",
       "    <tr>\n",
       "      <th>4</th>\n",
       "      <td>Web Developer (Python)</td>\n",
       "      <td>6K - 8,000 monthly</td>\n",
       "      <td>Kuala Lumpur</td>\n",
       "      <td>6000.0</td>\n",
       "      <td>- 8,000 monthly</td>\n",
       "    </tr>\n",
       "    <tr>\n",
       "      <th>5</th>\n",
       "      <td>AI Scientist</td>\n",
       "      <td>4.4K - 8,000 monthly</td>\n",
       "      <td>Kuala Lumpur</td>\n",
       "      <td>4400.0</td>\n",
       "      <td>- 8,000 monthly</td>\n",
       "    </tr>\n",
       "    <tr>\n",
       "      <th>6</th>\n",
       "      <td>Senior Software Developer</td>\n",
       "      <td>6K - 10,000 monthly</td>\n",
       "      <td>Kuala Lumpur</td>\n",
       "      <td>6000.0</td>\n",
       "      <td>- 10,000 monthly</td>\n",
       "    </tr>\n",
       "  </tbody>\n",
       "</table>\n",
       "</div>"
      ],
      "text/plain": [
       "                                      Job Title                 Salary   \n",
       "0                                Data Scientist  5.5K - 11,000 monthly  \\\n",
       "2  System Support Engineer (Software Developer)     5K - 8,000 monthly   \n",
       "4                        Web Developer (Python)     6K - 8,000 monthly   \n",
       "5                                  AI Scientist   4.4K - 8,000 monthly   \n",
       "6                     Senior Software Developer    6K - 10,000 monthly   \n",
       "\n",
       "       Location  Number            After_K  \n",
       "0  Kuala Lumpur  5500.0   - 11,000 monthly  \n",
       "2  Kuala Lumpur  5000.0    - 8,000 monthly  \n",
       "4  Kuala Lumpur  6000.0    - 8,000 monthly  \n",
       "5  Kuala Lumpur  4400.0    - 8,000 monthly  \n",
       "6  Kuala Lumpur  6000.0   - 10,000 monthly  "
      ]
     },
     "execution_count": 31,
     "metadata": {},
     "output_type": "execute_result"
    }
   ],
   "source": [
    "df_concat.head()"
   ]
  },
  {
   "cell_type": "code",
   "execution_count": 32,
   "metadata": {},
   "outputs": [
    {
     "data": {
      "text/html": [
       "<div>\n",
       "<style scoped>\n",
       "    .dataframe tbody tr th:only-of-type {\n",
       "        vertical-align: middle;\n",
       "    }\n",
       "\n",
       "    .dataframe tbody tr th {\n",
       "        vertical-align: top;\n",
       "    }\n",
       "\n",
       "    .dataframe thead th {\n",
       "        text-align: right;\n",
       "    }\n",
       "</style>\n",
       "<table border=\"1\" class=\"dataframe\">\n",
       "  <thead>\n",
       "    <tr style=\"text-align: right;\">\n",
       "      <th></th>\n",
       "      <th>Job Title</th>\n",
       "      <th>Location</th>\n",
       "      <th>Number</th>\n",
       "      <th>After_K</th>\n",
       "    </tr>\n",
       "  </thead>\n",
       "  <tbody>\n",
       "    <tr>\n",
       "      <th>0</th>\n",
       "      <td>Data Scientist</td>\n",
       "      <td>Kuala Lumpur</td>\n",
       "      <td>5500.0</td>\n",
       "      <td>- 11,000 monthly</td>\n",
       "    </tr>\n",
       "    <tr>\n",
       "      <th>2</th>\n",
       "      <td>System Support Engineer (Software Developer)</td>\n",
       "      <td>Kuala Lumpur</td>\n",
       "      <td>5000.0</td>\n",
       "      <td>- 8,000 monthly</td>\n",
       "    </tr>\n",
       "    <tr>\n",
       "      <th>4</th>\n",
       "      <td>Web Developer (Python)</td>\n",
       "      <td>Kuala Lumpur</td>\n",
       "      <td>6000.0</td>\n",
       "      <td>- 8,000 monthly</td>\n",
       "    </tr>\n",
       "    <tr>\n",
       "      <th>5</th>\n",
       "      <td>AI Scientist</td>\n",
       "      <td>Kuala Lumpur</td>\n",
       "      <td>4400.0</td>\n",
       "      <td>- 8,000 monthly</td>\n",
       "    </tr>\n",
       "    <tr>\n",
       "      <th>6</th>\n",
       "      <td>Senior Software Developer</td>\n",
       "      <td>Kuala Lumpur</td>\n",
       "      <td>6000.0</td>\n",
       "      <td>- 10,000 monthly</td>\n",
       "    </tr>\n",
       "  </tbody>\n",
       "</table>\n",
       "</div>"
      ],
      "text/plain": [
       "                                      Job Title      Location  Number   \n",
       "0                                Data Scientist  Kuala Lumpur  5500.0  \\\n",
       "2  System Support Engineer (Software Developer)  Kuala Lumpur  5000.0   \n",
       "4                        Web Developer (Python)  Kuala Lumpur  6000.0   \n",
       "5                                  AI Scientist  Kuala Lumpur  4400.0   \n",
       "6                     Senior Software Developer  Kuala Lumpur  6000.0   \n",
       "\n",
       "             After_K  \n",
       "0   - 11,000 monthly  \n",
       "2    - 8,000 monthly  \n",
       "4    - 8,000 monthly  \n",
       "5    - 8,000 monthly  \n",
       "6   - 10,000 monthly  "
      ]
     },
     "execution_count": 32,
     "metadata": {},
     "output_type": "execute_result"
    }
   ],
   "source": [
    "df_concat.drop(['Salary'], axis=1, inplace=True)\n",
    "\n",
    "df_concat.head()"
   ]
  },
  {
   "cell_type": "code",
   "execution_count": 33,
   "metadata": {},
   "outputs": [
    {
     "data": {
      "text/plain": [
       "(15244, 4)"
      ]
     },
     "execution_count": 33,
     "metadata": {},
     "output_type": "execute_result"
    }
   ],
   "source": [
    "df_concat.shape"
   ]
  },
  {
   "cell_type": "code",
   "execution_count": null,
   "metadata": {},
   "outputs": [],
   "source": []
  }
 ],
 "metadata": {
  "kernelspec": {
   "display_name": "Python 3",
   "language": "python",
   "name": "python3"
  },
  "language_info": {
   "codemirror_mode": {
    "name": "ipython",
    "version": 3
   },
   "file_extension": ".py",
   "mimetype": "text/x-python",
   "name": "python",
   "nbconvert_exporter": "python",
   "pygments_lexer": "ipython3",
   "version": "3.11.3"
  },
  "orig_nbformat": 4
 },
 "nbformat": 4,
 "nbformat_minor": 2
}
